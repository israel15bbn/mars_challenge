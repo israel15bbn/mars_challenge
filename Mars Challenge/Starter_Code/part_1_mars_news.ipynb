{
 "cells": [
  {
   "cell_type": "markdown",
   "metadata": {},
   "source": [
    "# Module 12 Challenge\n",
    "## Deliverable 1: Scrape Titles and Preview Text from Mars News"
   ]
  },
  {
   "cell_type": "code",
   "execution_count": 1,
   "metadata": {},
   "outputs": [],
   "source": [
    "# Import Splinter and BeautifulSoup\n",
    "from splinter import Browser\n",
    "from bs4 import BeautifulSoup as soup"
   ]
  },
  {
   "cell_type": "code",
   "execution_count": 3,
   "metadata": {
    "scrolled": true
   },
   "outputs": [],
   "source": [
    "browser = Browser('chrome')"
   ]
  },
  {
   "cell_type": "markdown",
   "metadata": {},
   "source": [
    "### Step 1: Visit the Website\n",
    "\n",
    "1. Use automated browsing to visit the [Mars news site](https://static.bc-edx.com/data/web/mars_news/index.html). Inspect the page to identify which elements to scrape.\n",
    "\n",
    "      > **Hint** To identify which elements to scrape, you might want to inspect the page by using Chrome DevTools."
   ]
  },
  {
   "cell_type": "code",
   "execution_count": 4,
   "metadata": {},
   "outputs": [],
   "source": [
    "# Visit the Mars news site\n",
    "url = 'https://static.bc-edx.com/data/web/mars_news/index.html'\n",
    "browser.visit(url)"
   ]
  },
  {
   "cell_type": "markdown",
   "metadata": {},
   "source": [
    "### Step 2: Scrape the Website\n",
    "\n",
    "Create a Beautiful Soup object and use it to extract text elements from the website."
   ]
  },
  {
   "cell_type": "code",
   "execution_count": 5,
   "metadata": {},
   "outputs": [],
   "source": [
    "# Create a Beautiful Soup object\n",
    "html = browser.html\n",
    "soup = soup(html, 'html.parser')"
   ]
  },
  {
   "cell_type": "code",
   "execution_count": 6,
   "metadata": {},
   "outputs": [],
   "source": [
    "# Extract all the text elements\n",
    "text_elements = soup.get_text()"
   ]
  },
  {
   "cell_type": "markdown",
   "metadata": {},
   "source": [
    "### Step 3: Store the Results\n",
    "\n",
    "Extract the titles and preview text of the news articles that you scraped. Store the scraping results in Python data structures as follows:\n",
    "\n",
    "* Store each title-and-preview pair in a Python dictionary. And, give each dictionary two keys: `title` and `preview`. An example is the following:\n",
    "\n",
    "  ```python\n",
    "  {'title': \"NASA's MAVEN Observes Martian Light Show Caused by Major Solar Storm\", \n",
    "   'preview': \"For the first time in its eight years orbiting Mars, NASA’s MAVEN mission witnessed two different types of ultraviolet aurorae simultaneously, the result of solar storms that began on Aug. 27.\"\n",
    "  }\n",
    "  ```\n",
    "\n",
    "* Store all the dictionaries in a Python list.\n",
    "\n",
    "* Print the list in your notebook."
   ]
  },
  {
   "cell_type": "code",
   "execution_count": 7,
   "metadata": {},
   "outputs": [],
   "source": [
    "# Create an empty list to store the dictionaries\n",
    "news_list = []"
   ]
  },
  {
   "cell_type": "code",
   "execution_count": 8,
   "metadata": {},
   "outputs": [],
   "source": [
    "# Loop through the text elements\n",
    "# Extract the title and preview text from the elements\n",
    "# Store each title and preview pair in a dictionary\n",
    "# Add the dictionary to the list\n",
    "\n",
    "for element in text_elements.split('\\n\\n\\n'):\n",
    "    if element:\n",
    "        title = element.split('\\n')[0]\n",
    "        preview = element.split('\\n')[1] if len(element.split('\\n')) > 1 else ''\n",
    "        news_dict = {'title': title, 'preview': preview}\n",
    "        news_list.append(news_dict)"
   ]
  },
  {
   "cell_type": "code",
   "execution_count": 9,
   "metadata": {},
   "outputs": [
    {
     "name": "stdout",
     "output_type": "stream",
     "text": [
      "[{'title': 'News - Mars Exploration Program', 'preview': ''}, {'title': '', 'preview': ''}, {'title': '', 'preview': ''}, {'title': 'The Program', 'preview': ''}, {'title': 'News & Events', 'preview': ''}, {'title': 'Multimedia', 'preview': ''}, {'title': 'Missions', 'preview': ''}, {'title': 'More', 'preview': ''}, {'title': '', 'preview': ''}, {'title': 'Latest', 'preview': ''}, {'title': '', 'preview': ''}, {'title': 'November 9, 2022', 'preview': \"NASA's MAVEN Observes Martian Light Show Caused by Major Solar Storm\"}, {'title': 'November 1, 2022', 'preview': \"NASA Prepares to Say 'Farewell' to InSight Spacecraft\"}, {'title': 'October 28, 2022', 'preview': 'NASA and ESA Agree on Next Steps to Return Mars Samples to Earth'}, {'title': 'October 27, 2022', 'preview': \"NASA's InSight Lander Detects Stunning Meteoroid Impact on Mars\"}, {'title': 'October 21, 2022', 'preview': 'NASA To Host Briefing on InSight, Mars Reconnaissance Orbiter Findings'}, {'title': 'October 20, 2022', 'preview': 'Why NASA Is Trying To Crash Land on Mars'}, {'title': 'October 19, 2022', 'preview': 'Curiosity Mars Rover Reaches Long-Awaited Salty Region'}, {'title': 'October 12, 2022', 'preview': 'Mars Mission Shields Up for Tests'}, {'title': 'October 7, 2022', 'preview': \"NASA's InSight Waits Out Dust Storm\"}, {'title': 'September 19, 2022', 'preview': \"NASA's InSight 'Hears' Its First Meteoroid Impacts on Mars\"}, {'title': 'September 15, 2022', 'preview': \"NASA's Perseverance Rover Investigates Geologically Rich Mars Terrain\"}, {'title': 'September 12, 2022', 'preview': 'NASA to Host Briefing on Perseverance Mars Rover Mission Operations'}, {'title': 'August 25, 2022', 'preview': \"NASA's Perseverance Makes New Discoveries in Mars' Jezero Crater\"}, {'title': 'August 5, 2022', 'preview': \"10 Years Since Landing, NASA's Curiosity Mars Rover Still Has Drive\"}, {'title': 'August 4, 2022', 'preview': \"SAM's Top 5 Discoveries Aboard NASA's Curiosity Rover at Mars\"}, {'title': '', 'preview': 'More'}, {'title': 'You Might Also Like', 'preview': ''}, {'title': '', 'preview': ''}, {'title': '', 'preview': ''}, {'title': '', 'preview': ''}, {'title': '', 'preview': ''}, {'title': '', 'preview': 'The Program'}, {'title': '', 'preview': 'Multimedia'}, {'title': '', 'preview': 'Missions'}, {'title': '', 'preview': ''}]\n"
     ]
    }
   ],
   "source": [
    "# Print the list to confirm success\n",
    "print(news_list)"
   ]
  },
  {
   "cell_type": "code",
   "execution_count": 10,
   "metadata": {},
   "outputs": [],
   "source": [
    "browser.quit()"
   ]
  },
  {
   "cell_type": "code",
   "execution_count": null,
   "metadata": {},
   "outputs": [],
   "source": []
  }
 ],
 "metadata": {
  "kernelspec": {
   "display_name": "PythonData",
   "language": "python",
   "name": "pythondata"
  },
  "language_info": {
   "codemirror_mode": {
    "name": "ipython",
    "version": 3
   },
   "file_extension": ".py",
   "mimetype": "text/x-python",
   "name": "python",
   "nbconvert_exporter": "python",
   "pygments_lexer": "ipython3",
   "version": "3.7.7"
  },
  "vscode": {
   "interpreter": {
    "hash": "31f2aee4e71d21fbe5cf8b01ff0e069b9275f58929596ceb00d14d90e3e16cd6"
   }
  }
 },
 "nbformat": 4,
 "nbformat_minor": 4
}
